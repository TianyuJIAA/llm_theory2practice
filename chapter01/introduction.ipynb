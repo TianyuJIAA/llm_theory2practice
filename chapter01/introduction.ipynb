{
 "cells": [
  {
   "cell_type": "markdown",
   "metadata": {},
   "source": [
    "## 绪论\n",
    "\n",
    "1.介绍了大规模语言模型的基本概念和发展历程，并列举了当今典型开闭源大模型的基本信息\n",
    "\n",
    "<img src=\"./images/0.png\" alt=\"examples\" style=\"zoom:30%;\" /> \n",
    "\n",
    "2.大语言模型的构建流程\n",
    "\n",
    "<img src=\"./images/1.png\" alt=\"examples\" style=\"zoom:30%;\" /> \n",
    "\n",
    "3.本书的内容安排\n",
    "\n",
    "<img src=\"./images/2.png\" alt=\"examples\" style=\"zoom:30%;\" /> "
   ]
  }
 ],
 "metadata": {
  "language_info": {
   "name": "python"
  }
 },
 "nbformat": 4,
 "nbformat_minor": 2
}
